{
  "nbformat": 4,
  "nbformat_minor": 0,
  "metadata": {
    "colab": {
      "provenance": [],
      "authorship_tag": "ABX9TyOCBC65gyEAURZWEiSR9wwu",
      "include_colab_link": true
    },
    "kernelspec": {
      "name": "python3",
      "display_name": "Python 3"
    },
    "language_info": {
      "name": "python"
    }
  },
  "cells": [
    {
      "cell_type": "markdown",
      "metadata": {
        "id": "view-in-github",
        "colab_type": "text"
      },
      "source": [
        "<a href=\"https://colab.research.google.com/github/PKKarna/MyQuantProjects/blob/master/Bootstrapping_IRS_pricing.ipynb\" target=\"_parent\"><img src=\"https://colab.research.google.com/assets/colab-badge.svg\" alt=\"Open In Colab\"/></a>"
      ]
    },
    {
      "cell_type": "code",
      "source": [
        "import numpy as np\n",
        "\n",
        "# Step 1: Gather Observable Yield Curve Data\n",
        "observable_yield_curve = [0.02, 0.025, 0.03, 0.035, 0.04]\n",
        "\n",
        "# Step 2: Bootstrap Forward Rates Term Structure\n",
        "forward_rates = np.zeros(len(observable_yield_curve))\n",
        "forward_rates[0] = observable_yield_curve[0]\n",
        "for i in range(1, len(forward_rates)):\n",
        "    forward_rates[i] = ((1 + observable_yield_curve[i])**(i + 1) / (1 + observable_yield_curve[i - 1])**(i)) - 1\n",
        "\n",
        "print(\"Forward Rates Term Structure:\")\n",
        "print(forward_rates)\n",
        "\n",
        "# Step 3: Calculate Floating Leg Cash Flows\n",
        "notional = 1000000\n",
        "floating_leg_cash_flows = []\n",
        "for i in range(len(forward_rates)):\n",
        "    if i == 0:\n",
        "        floating_leg_cash_flows.append(notional * forward_rates[i])\n",
        "    else:\n",
        "        floating_leg_cash_flows.append(notional * (forward_rates[i] - forward_rates[i - 1]))\n",
        "\n",
        "print(\"Floating Leg Cash Flows:\")\n",
        "print(floating_leg_cash_flows)\n",
        "\n",
        "# Step 4: Calculate Fixed Rate\n",
        "swap_rate = 0.045\n",
        "fixed_rate = swap_rate\n",
        "\n",
        "print(\"Fixed Rate:\")\n",
        "print(fixed_rate)\n",
        "\n",
        "# Step 5: Calculate Fixed Leg Cash Flows\n",
        "fixed_leg_cash_flows = [notional * fixed_rate] * len(forward_rates)\n",
        "\n",
        "print(\"Fixed Leg Cash Flows:\")\n",
        "print(fixed_leg_cash_flows)\n",
        "\n",
        "# Step 6: Discount Cash Flows\n",
        "discount_factors = [1 / (1 + rate) for rate in forward_rates]\n",
        "\n",
        "discounted_floating_leg_cash_flows = [cf / (1 + rate) for cf, rate in zip(floating_leg_cash_flows, forward_rates)]\n",
        "discounted_fixed_leg_cash_flows = [cf / (1 + rate) for cf, rate in zip(fixed_leg_cash_flows, forward_rates)]\n",
        "\n",
        "print(\"Discounted Floating Leg Cash Flows:\")\n",
        "print(discounted_floating_leg_cash_flows)\n",
        "\n",
        "print(\"Discounted Fixed Leg Cash Flows:\")\n",
        "print(discounted_fixed_leg_cash_flows)\n",
        "\n",
        "# Step 7: Calculate Net Present Value (NPV)\n",
        "npv = sum(discounted_floating_leg_cash_flows) - sum(discounted_fixed_leg_cash_flows)\n",
        "\n",
        "print(\"Net Present Value (NPV):\")\n",
        "print(npv)\n"
      ],
      "metadata": {
        "colab": {
          "base_uri": "https://localhost:8080/"
        },
        "id": "gNCSnjx46w3e",
        "outputId": "05981f6b-82d5-49e3-c772-d48b5af2c698"
      },
      "execution_count": 20,
      "outputs": [
        {
          "output_type": "stream",
          "name": "stdout",
          "text": [
            "Forward Rates Term Structure:\n",
            "[0.02       0.03002451 0.04007329 0.0501461  0.06024272]\n",
            "Floating Leg Cash Flows:\n",
            "[20000.0, 10024.509803921572, 10048.779904585414, 10072.813229371925, 10096.612665510873]\n",
            "Fixed Rate:\n",
            "0.045\n",
            "Fixed Leg Cash Flows:\n",
            "[45000.0, 45000.0, 45000.0, 45000.0, 45000.0]\n",
            "Discounted Floating Leg Cash Flows:\n",
            "[19607.843137254902, 9732.302201070794, 9661.60750787255, 9591.82079635616, 9522.925757395878]\n",
            "Discounted Fixed Leg Cash Flows:\n",
            "[44117.64705882353, 43688.280785246876, 43266.18176360609, 42851.18030158701, 42443.11169295821]\n",
            "Net Present Value (NPV):\n",
            "-158249.90220227145\n"
          ]
        }
      ]
    }
  ]
}